{
 "cells": [
  {
   "cell_type": "markdown",
   "metadata": {},
   "source": [
    "# Unit 5 - Financial Planning"
   ]
  },
  {
   "cell_type": "code",
   "execution_count": 101,
   "metadata": {},
   "outputs": [],
   "source": [
    "# Initial imports\n",
    "import os\n",
    "import requests\n",
    "import pandas as pd\n",
    "from dotenv import load_dotenv\n",
    "import alpaca_trade_api as tradeapi\n",
    "from MCForecastTools import MCSimulation\n",
    "from datetime import date, timedelta\n",
    "\n",
    "%matplotlib inline"
   ]
  },
  {
   "cell_type": "code",
   "execution_count": 102,
   "metadata": {},
   "outputs": [
    {
     "data": {
      "text/plain": [
       "True"
      ]
     },
     "execution_count": 102,
     "metadata": {},
     "output_type": "execute_result"
    }
   ],
   "source": [
    "# Load .env enviroment variables\n",
    "load_dotenv()"
   ]
  },
  {
   "cell_type": "markdown",
   "metadata": {},
   "source": [
    "## Part 1 - Personal Finance Planner"
   ]
  },
  {
   "cell_type": "markdown",
   "metadata": {},
   "source": [
    "### Collect Crypto Prices Using the `requests` Library"
   ]
  },
  {
   "cell_type": "code",
   "execution_count": 103,
   "metadata": {},
   "outputs": [],
   "source": [
    "# Set current amount of crypto assets\n",
    "# YOUR CODE HERE!\n",
    "my_btc = 1.2\n",
    "my_eth = 5.3"
   ]
  },
  {
   "cell_type": "code",
   "execution_count": 104,
   "metadata": {},
   "outputs": [],
   "source": [
    "# Crypto API URLs\n",
    "btc_url = \"https://api.alternative.me/v2/ticker/Bitcoin/?convert=CAD\"\n",
    "eth_url = \"https://api.alternative.me/v2/ticker/Ethereum/?convert=CAD\"\n",
    "#btc_response_data = requests.get(btc_url, verify = False)\n",
    "#btc_response_data = requests.get(btc_url).json()"
   ]
  },
  {
   "cell_type": "code",
   "execution_count": 105,
   "metadata": {},
   "outputs": [
    {
     "name": "stdout",
     "output_type": "stream",
     "text": [
      "Current BTC price =  48715.0\n",
      "Current ETH price =  3928.7\n",
      "The current value of your 1.2 BTC is $58458.00\n",
      "The current value of your 5.3 ETH is $20822.11\n"
     ]
    }
   ],
   "source": [
    "# Fetch current BTC price\n",
    "# YOUR CODE HERE!\n",
    "# send the get request for Bitcoin and Ethereum\n",
    "btc_response_data = requests.get(btc_url).json()\n",
    "\n",
    "\n",
    "# Initial json parse\n",
    "#print(btc_response_data)           # print the json response returned.\n",
    "#print(type(btc_response_data))     # dict type\n",
    "#print(len(btc_response_data))      # check the len \n",
    "\n",
    "# look at the 1st dict element\n",
    "#print(btc_response_data['data'])\n",
    "#print(type(btc_response_data['data']))     # another dict type\n",
    "#print(len(btc_response_data['data']))      # check the len \n",
    "\n",
    "# look at the '1' dict element\n",
    "#print(btc_response_data['data']['1'])\n",
    "#print(type(btc_response_data['data']['1']))     # another dict type\n",
    "#print(len(btc_response_data['data']['1']))      # check the len \n",
    "\n",
    "# look at the 'quotes' key as price is embedded there\n",
    "# print(btc_response_data['data']['1']['quotes'])\n",
    "# print(type(btc_response_data['data']['1']['quotes']))     \n",
    "# print(len(btc_response_data['data']['1']['quotes']))      # check the len \n",
    "\n",
    "# look at the 'USD' key as price is embedded there\n",
    "# print(btc_response_data['data']['1']['quotes']['USD'])\n",
    "# print(type(btc_response_data['data']['1']['quotes']['USD']))     \n",
    "# print(len(btc_response_data['data']['1']['quotes']['USD']))      # check the len \n",
    "\n",
    "btc_price = btc_response_data['data']['1']['quotes']['USD']['price']\n",
    "print('Current BTC price = ', btc_price)\n",
    "my_btc_value = my_btc * btc_price\n",
    "\n",
    "# Fetch current ETH price\n",
    "# YOUR CODE HERE!\n",
    "eth_response_data = requests.get(eth_url).json()\n",
    "#print(eth_response_data['data']['1027'])\n",
    "eth_price = eth_response_data['data']['1027']['quotes']['USD']['price']\n",
    "print('Current ETH price = ',eth_price)\n",
    "my_eth_value = my_eth * eth_price\n",
    "\n",
    "# Compute current value of my crpto\n",
    "# YOUR CODE HERE!\n",
    "\n",
    "# Print current crypto wallet balance\n",
    "print(f\"The current value of your {my_btc} BTC is ${my_btc_value:0.2f}\")\n",
    "print(f\"The current value of your {my_eth} ETH is ${my_eth_value:0.2f}\")"
   ]
  },
  {
   "cell_type": "markdown",
   "metadata": {},
   "source": [
    "### Collect Investments Data Using Alpaca: `SPY` (stocks) and `AGG` (bonds)"
   ]
  },
  {
   "cell_type": "code",
   "execution_count": 106,
   "metadata": {},
   "outputs": [],
   "source": [
    "# Set current amount of shares\n",
    "my_agg = 200\n",
    "my_spy = 50"
   ]
  },
  {
   "cell_type": "code",
   "execution_count": 107,
   "metadata": {},
   "outputs": [],
   "source": [
    "# Set Alpaca API key and secret\n",
    "# YOUR CODE HERE!\n",
    "alpaca_api_key = os.getenv(\"ALPACA_API_KEY\")\n",
    "alpaca_secret_key = os.getenv(\"ALPACA_SECRET_KEY\")\n",
    "\n",
    "# Create the Alpaca API object\n",
    "# YOUR CODE HERE!\n",
    "alpaca = tradeapi.REST(\n",
    "    alpaca_api_key,\n",
    "    alpaca_secret_key,\n",
    "    api_version=\"v2\")"
   ]
  },
  {
   "cell_type": "code",
   "execution_count": 108,
   "metadata": {},
   "outputs": [
    {
     "name": "stdout",
     "output_type": "stream",
     "text": [
      "start =  2017-04-06T01:10:04.475735-04:00\n",
      "end =  2021-05-15T01:10:04.475735-04:00\n"
     ]
    },
    {
     "data": {
      "text/html": [
       "<div>\n",
       "<style scoped>\n",
       "    .dataframe tbody tr th:only-of-type {\n",
       "        vertical-align: middle;\n",
       "    }\n",
       "\n",
       "    .dataframe tbody tr th {\n",
       "        vertical-align: top;\n",
       "    }\n",
       "\n",
       "    .dataframe thead tr th {\n",
       "        text-align: left;\n",
       "    }\n",
       "</style>\n",
       "<table border=\"1\" class=\"dataframe\">\n",
       "  <thead>\n",
       "    <tr>\n",
       "      <th></th>\n",
       "      <th colspan=\"5\" halign=\"left\">AGG</th>\n",
       "      <th colspan=\"5\" halign=\"left\">SPY</th>\n",
       "    </tr>\n",
       "    <tr>\n",
       "      <th></th>\n",
       "      <th>open</th>\n",
       "      <th>high</th>\n",
       "      <th>low</th>\n",
       "      <th>close</th>\n",
       "      <th>volume</th>\n",
       "      <th>open</th>\n",
       "      <th>high</th>\n",
       "      <th>low</th>\n",
       "      <th>close</th>\n",
       "      <th>volume</th>\n",
       "    </tr>\n",
       "  </thead>\n",
       "  <tbody>\n",
       "    <tr>\n",
       "      <th>2021-05-10 00:00:00-04:00</th>\n",
       "      <td>114.61</td>\n",
       "      <td>114.72</td>\n",
       "      <td>114.4000</td>\n",
       "      <td>114.430</td>\n",
       "      <td>4737895.0</td>\n",
       "      <td>422.50</td>\n",
       "      <td>422.74</td>\n",
       "      <td>417.81</td>\n",
       "      <td>417.98</td>\n",
       "      <td>72071656.0</td>\n",
       "    </tr>\n",
       "    <tr>\n",
       "      <th>2021-05-11 00:00:00-04:00</th>\n",
       "      <td>114.23</td>\n",
       "      <td>114.38</td>\n",
       "      <td>114.1300</td>\n",
       "      <td>114.190</td>\n",
       "      <td>5986487.0</td>\n",
       "      <td>413.10</td>\n",
       "      <td>415.27</td>\n",
       "      <td>410.06</td>\n",
       "      <td>414.27</td>\n",
       "      <td>105794428.0</td>\n",
       "    </tr>\n",
       "    <tr>\n",
       "      <th>2021-05-12 00:00:00-04:00</th>\n",
       "      <td>113.98</td>\n",
       "      <td>114.01</td>\n",
       "      <td>113.7900</td>\n",
       "      <td>113.790</td>\n",
       "      <td>6392314.0</td>\n",
       "      <td>411.23</td>\n",
       "      <td>412.59</td>\n",
       "      <td>404.00</td>\n",
       "      <td>405.44</td>\n",
       "      <td>117671634.0</td>\n",
       "    </tr>\n",
       "    <tr>\n",
       "      <th>2021-05-13 00:00:00-04:00</th>\n",
       "      <td>113.90</td>\n",
       "      <td>114.06</td>\n",
       "      <td>113.7800</td>\n",
       "      <td>114.015</td>\n",
       "      <td>5446892.0</td>\n",
       "      <td>407.07</td>\n",
       "      <td>412.35</td>\n",
       "      <td>407.02</td>\n",
       "      <td>410.26</td>\n",
       "      <td>96561623.0</td>\n",
       "    </tr>\n",
       "    <tr>\n",
       "      <th>2021-05-14 00:00:00-04:00</th>\n",
       "      <td>114.22</td>\n",
       "      <td>114.28</td>\n",
       "      <td>114.1219</td>\n",
       "      <td>114.280</td>\n",
       "      <td>3711363.0</td>\n",
       "      <td>413.20</td>\n",
       "      <td>417.49</td>\n",
       "      <td>413.18</td>\n",
       "      <td>416.53</td>\n",
       "      <td>69029028.0</td>\n",
       "    </tr>\n",
       "  </tbody>\n",
       "</table>\n",
       "</div>"
      ],
      "text/plain": [
       "                              AGG                                        \\\n",
       "                             open    high       low    close     volume   \n",
       "2021-05-10 00:00:00-04:00  114.61  114.72  114.4000  114.430  4737895.0   \n",
       "2021-05-11 00:00:00-04:00  114.23  114.38  114.1300  114.190  5986487.0   \n",
       "2021-05-12 00:00:00-04:00  113.98  114.01  113.7900  113.790  6392314.0   \n",
       "2021-05-13 00:00:00-04:00  113.90  114.06  113.7800  114.015  5446892.0   \n",
       "2021-05-14 00:00:00-04:00  114.22  114.28  114.1219  114.280  3711363.0   \n",
       "\n",
       "                              SPY                                       \n",
       "                             open    high     low   close       volume  \n",
       "2021-05-10 00:00:00-04:00  422.50  422.74  417.81  417.98   72071656.0  \n",
       "2021-05-11 00:00:00-04:00  413.10  415.27  410.06  414.27  105794428.0  \n",
       "2021-05-12 00:00:00-04:00  411.23  412.59  404.00  405.44  117671634.0  \n",
       "2021-05-13 00:00:00-04:00  407.07  412.35  407.02  410.26   96561623.0  \n",
       "2021-05-14 00:00:00-04:00  413.20  417.49  413.18  416.53   69029028.0  "
      ]
     },
     "execution_count": 108,
     "metadata": {},
     "output_type": "execute_result"
    }
   ],
   "source": [
    "# Format current date as ISO format\n",
    "# YOUR CODE HERE!\n",
    "today = pd.to_datetime(\"today\")                   \n",
    "#print(date.today())\n",
    "end = pd.Timestamp(today, tz=\"America/New_York\").isoformat()\n",
    "\n",
    "end1500 = (today - timedelta(days=1500)).isoformat()             # include more days as weekend are there.\n",
    "start = pd.Timestamp(end1500, tz=\"America/New_York\").isoformat()\n",
    "print('start = ',start)\n",
    "print('end = ', end)\n",
    "\n",
    "# Set the tickers\n",
    "tickers = [\"AGG\", \"SPY\"]\n",
    "\n",
    "# Set timeframe to '1D' for Alpaca API\n",
    "timeframe = \"1D\"\n",
    "\n",
    "# Get current closing prices for SPY and AGG\n",
    "# (use a limit=1000 parameter to call the most recent 1000 days of data)\n",
    "# YOUR CODE HERE!\n",
    "df_portfolio = alpaca.get_barset(\n",
    "    tickers,\n",
    "    timeframe,\n",
    "    limit = 1000,\n",
    "    start = start,\n",
    "    end = end\n",
    ").df\n",
    "\n",
    "# Preview DataFrame\n",
    "# YOUR CODE HERE!\n",
    "df_portfolio.sort_index\n",
    "df_portfolio.tail()"
   ]
  },
  {
   "cell_type": "code",
   "execution_count": 109,
   "metadata": {},
   "outputs": [
    {
     "name": "stdout",
     "output_type": "stream",
     "text": [
      "Current AGG closing price: $114.28\n",
      "Current SPY closing price: $416.53\n"
     ]
    }
   ],
   "source": [
    "# Pick AGG and SPY close prices\n",
    "# YOUR CODE HERE!\n",
    "len(df_portfolio)\n",
    "current_day = df_portfolio.iloc[len(df_portfolio)-1]\n",
    "agg_close_price = current_day[\"AGG\"][\"close\"]\n",
    "spy_close_price = current_day[\"SPY\"][\"close\"]\n",
    "#spy_close_price = df_portfolio[\"SPY\"][\"close\"]\n",
    "#type(agg_close)\n",
    "#print(agg_close)\n",
    "#print(f\"Current AGG closing price: ${agg_close}\")\n",
    "\n",
    "# Print AGG and SPY close prices\n",
    "print(f\"Current AGG closing price: ${agg_close_price}\")\n",
    "print(f\"Current SPY closing price: ${spy_close_price}\")"
   ]
  },
  {
   "cell_type": "code",
   "execution_count": 110,
   "metadata": {},
   "outputs": [
    {
     "name": "stdout",
     "output_type": "stream",
     "text": [
      "The current value of your 200 AGG shares is $22856.00\n",
      "The current value of your 50 SPY shares is $20826.50\n"
     ]
    }
   ],
   "source": [
    "# Compute the current value of shares\n",
    "# YOUR CODE HERE!\n",
    "my_agg_value = my_agg * agg_close_price\n",
    "my_spy_value = my_spy * spy_close_price\n",
    "# Print current value of shares\n",
    "print(f\"The current value of your {my_agg} AGG shares is ${my_agg_value:0.2f}\")\n",
    "print(f\"The current value of your {my_spy} SPY shares is ${my_spy_value:0.2f}\")"
   ]
  },
  {
   "cell_type": "code",
   "execution_count": 111,
   "metadata": {},
   "outputs": [],
   "source": [
    "#data = {'col_1': [3, 2, 1, 0], 'col_2': ['a', 'b', 'c', 'd']}\n",
    "#>>> pd.DataFrame.from_dict(data)"
   ]
  },
  {
   "cell_type": "markdown",
   "metadata": {},
   "source": [
    "### Savings Health Analysis"
   ]
  },
  {
   "cell_type": "code",
   "execution_count": 112,
   "metadata": {},
   "outputs": [
    {
     "data": {
      "text/html": [
       "<div>\n",
       "<style scoped>\n",
       "    .dataframe tbody tr th:only-of-type {\n",
       "        vertical-align: middle;\n",
       "    }\n",
       "\n",
       "    .dataframe tbody tr th {\n",
       "        vertical-align: top;\n",
       "    }\n",
       "\n",
       "    .dataframe thead th {\n",
       "        text-align: right;\n",
       "    }\n",
       "</style>\n",
       "<table border=\"1\" class=\"dataframe\">\n",
       "  <thead>\n",
       "    <tr style=\"text-align: right;\">\n",
       "      <th></th>\n",
       "      <th>amount</th>\n",
       "    </tr>\n",
       "  </thead>\n",
       "  <tbody>\n",
       "    <tr>\n",
       "      <th>crypto</th>\n",
       "      <td>79280.11</td>\n",
       "    </tr>\n",
       "    <tr>\n",
       "      <th>shares</th>\n",
       "      <td>43682.50</td>\n",
       "    </tr>\n",
       "  </tbody>\n",
       "</table>\n",
       "</div>"
      ],
      "text/plain": [
       "          amount\n",
       "crypto  79280.11\n",
       "shares  43682.50"
      ]
     },
     "metadata": {},
     "output_type": "display_data"
    },
    {
     "data": {
      "text/plain": [
       "pandas.core.frame.DataFrame"
      ]
     },
     "execution_count": 112,
     "metadata": {},
     "output_type": "execute_result"
    }
   ],
   "source": [
    "# Set monthly household income\n",
    "# YOUR CODE HERE!\n",
    "monthly_income = 12000\n",
    "\n",
    "# Consolidate financial assets data\n",
    "# YOUR CODE HERE!\n",
    "total_crypto_value = my_btc_value + my_eth_value\n",
    "total_shares_value = my_spy_value + my_agg_value\n",
    "# Create savings DataFrame\n",
    "# YOUR CODE HERE!\n",
    "savings = {'amount' : [total_crypto_value, total_shares_value]}\n",
    "\n",
    "\n",
    "#d_savings = { 'crypto' : [total_crypto_value], 'shares' : [total_shares_value]}\n",
    "#print(d_savings)\n",
    "df_savings = pd.DataFrame(savings, index= ['crypto', 'shares']) \n",
    "# Display savings DataFrame\n",
    "display(df_savings)\n",
    "type(df_savings)"
   ]
  },
  {
   "cell_type": "code",
   "execution_count": 113,
   "metadata": {},
   "outputs": [
    {
     "data": {
      "text/plain": [
       "<matplotlib.axes._subplots.AxesSubplot at 0x1e782d42fd0>"
      ]
     },
     "execution_count": 113,
     "metadata": {},
     "output_type": "execute_result"
    },
    {
     "data": {
      "image/png": "[encoded data removed]",
      "text/plain": [
       "<Figure size 360x360 with 1 Axes>"
      ]
     },
     "metadata": {},
     "output_type": "display_data"
    }
   ],
   "source": [
    "# Plot savings pie chart\n",
    "# YOUR CODE HERE!\n",
    "df_savings.plot.pie(y='amount', figsize=(5, 5))"
   ]
  },
  {
   "cell_type": "code",
   "execution_count": 114,
   "metadata": {},
   "outputs": [
    {
     "name": "stdout",
     "output_type": "stream",
     "text": [
      "Congratulations you have enough savings = 122962.61 more than emergency funds = 36000\n"
     ]
    }
   ],
   "source": [
    "# Set ideal emergency fund\n",
    "emergency_fund = monthly_income * 3\n",
    "#print(emergency_fund)\n",
    "#print('Emergency Fund = ', emergency_fund)\n",
    "# Calculate total amount of savings\n",
    "# YOUR CODE HERE!\n",
    "total_savings = df_savings.sum()[0]\n",
    "#print('total savings = ', total_savings)\n",
    "#print(type(total_savings))\n",
    "# Validate saving health\n",
    "# YOUR CODE HERE!\n",
    "\n",
    "if ( total_savings > emergency_fund ):\n",
    "    print(f'Congratulations you have enough savings = {total_savings} more than emergency funds = {emergency_fund}')\n",
    "elif total_savings == emergency_fund:\n",
    "    print(f'Congratulations on reaching enough savings = {total_savings} as emergency fund needed = {emergency_fund}')\n",
    "else:\n",
    "    print(f'Your savings = {total_savings} are less than emergency funds = {emergency_fund}')"
   ]
  },
  {
   "cell_type": "markdown",
   "metadata": {},
   "source": [
    "## Part 2 - Retirement Planning\n",
    "\n",
    "### Monte Carlo Simulation"
   ]
  },
  {
   "cell_type": "code",
   "execution_count": 115,
   "metadata": {},
   "outputs": [
    {
     "name": "stdout",
     "output_type": "stream",
     "text": [
      "                              AGG                                        \\\n",
      "                             open    high       low    close     volume   \n",
      "2017-05-24 00:00:00-04:00  109.25  109.50  109.2115  109.450  2325960.0   \n",
      "2017-05-25 00:00:00-04:00  109.45  109.49  109.3701  109.460  1382257.0   \n",
      "2017-05-26 00:00:00-04:00  109.46  109.54  109.4400  109.480   853245.0   \n",
      "2017-05-30 00:00:00-04:00  109.58  109.66  109.5400  109.635  1199625.0   \n",
      "2017-05-31 00:00:00-04:00  109.64  109.81  109.6400  109.750  2011554.0   \n",
      "\n",
      "                              SPY                                      \n",
      "                             open    high     low   close      volume  \n",
      "2017-05-24 00:00:00-04:00     NaN     NaN     NaN     NaN         NaN  \n",
      "2017-05-25 00:00:00-04:00  241.20  242.08  240.96  241.71  45278321.0  \n",
      "2017-05-26 00:00:00-04:00  241.55  241.90  241.45  241.74  30002081.0  \n",
      "2017-05-30 00:00:00-04:00  241.33  241.79  241.16  241.52  28437351.0  \n",
      "2017-05-31 00:00:00-04:00  241.84  241.88  240.64  241.42  59140588.0  \n",
      "                              AGG                                        \\\n",
      "                             open    high       low    close     volume   \n",
      "2021-05-10 00:00:00-04:00  114.61  114.72  114.4000  114.430  4737895.0   \n",
      "2021-05-11 00:00:00-04:00  114.23  114.38  114.1300  114.190  5986487.0   \n",
      "2021-05-12 00:00:00-04:00  113.98  114.01  113.7900  113.790  6392314.0   \n",
      "2021-05-13 00:00:00-04:00  113.90  114.06  113.7800  114.015  5446892.0   \n",
      "2021-05-14 00:00:00-04:00  114.22  114.28  114.1219  114.280  3711363.0   \n",
      "\n",
      "                              SPY                                       \n",
      "                             open    high     low   close       volume  \n",
      "2021-05-10 00:00:00-04:00  422.50  422.74  417.81  417.98   72071656.0  \n",
      "2021-05-11 00:00:00-04:00  413.10  415.27  410.06  414.27  105794428.0  \n",
      "2021-05-12 00:00:00-04:00  411.23  412.59  404.00  405.44  117671634.0  \n",
      "2021-05-13 00:00:00-04:00  407.07  412.35  407.02  410.26   96561623.0  \n",
      "2021-05-14 00:00:00-04:00  413.20  417.49  413.18  416.53   69029028.0  \n"
     ]
    }
   ],
   "source": [
    "# Set start and end dates of five years back from today.\n",
    "# Sample results may vary from the solution based on the time frame chosen\n",
    "\n",
    "# We already have 4 yrs data frmo earlier call. so now we just need 1 more year prior to that. Set the dates here\n",
    "start_date = pd.Timestamp('2016-05-24', tz='America/New_York').isoformat()\n",
    "end_date = pd.Timestamp('2017-05-23', tz='America/New_York').isoformat()\n",
    "\n",
    "# We already have 4 yrs data frmo earlier call to Alpaca. Confirm by printing head and tail\n",
    "print(df_portfolio.head())      # we have data from 2017-05-24.\n",
    "print(df_portfolio.tail())      # we haev data till 2021-05-14 \n",
    "\n"
   ]
  },
  {
   "cell_type": "code",
   "execution_count": 116,
   "metadata": {},
   "outputs": [
    {
     "name": "stdout",
     "output_type": "stream",
     "text": [
      "                              AGG                                       \\\n",
      "                             open    high       low     close   volume   \n",
      "2016-05-24 00:00:00-04:00  110.56  110.56  110.3400  110.4450  1554835   \n",
      "2016-05-25 00:00:00-04:00  110.54  110.55  110.3899  110.4759  2518214   \n",
      "2016-05-26 00:00:00-04:00  110.64  110.73  110.5600  110.6300  1410096   \n",
      "2016-05-27 00:00:00-04:00  110.68  110.70  110.4800  110.6100  2058598   \n",
      "2016-05-31 00:00:00-04:00  110.41  110.76  110.3600  110.6600  3066570   \n",
      "\n",
      "                              SPY                                      \n",
      "                             open    high     low     close    volume  \n",
      "2016-05-24 00:00:00-04:00  206.17  208.24  206.14  207.8500  65705751  \n",
      "2016-05-25 00:00:00-04:00  208.67  209.77  208.62  209.2200  59678561  \n",
      "2016-05-26 00:00:00-04:00  209.44  209.71  208.97  209.3264  41187181  \n",
      "2016-05-27 00:00:00-04:00  209.53  210.21  209.47  210.2000  48878450  \n",
      "2016-05-31 00:00:00-04:00  210.55  210.69  209.18  209.9000  74321735  \n",
      "                              AGG                                        \\\n",
      "                             open      high       low    close   volume   \n",
      "2017-05-17 00:00:00-04:00  109.35  109.6000  109.2800  109.560  2263851   \n",
      "2017-05-18 00:00:00-04:00  109.54  109.6299  109.4433  109.550  1873534   \n",
      "2017-05-19 00:00:00-04:00  109.51  109.5350  109.3520  109.525  1345002   \n",
      "2017-05-22 00:00:00-04:00  109.43  109.4800  109.4000  109.440  1199164   \n",
      "2017-05-23 00:00:00-04:00  109.50  109.5300  109.2100  109.240  1194872   \n",
      "\n",
      "                              SPY                                     \n",
      "                             open    high     low   close     volume  \n",
      "2017-05-17 00:00:00-04:00  238.10  238.64  235.75  235.85  118613594  \n",
      "2017-05-18 00:00:00-04:00  235.70  237.75  235.43  236.67   82965499  \n",
      "2017-05-19 00:00:00-04:00  237.33  239.08  237.27  238.30   69366163  \n",
      "2017-05-22 00:00:00-04:00  238.90  239.71  238.82  239.53   37630972  \n",
      "2017-05-23 00:00:00-04:00  239.95  240.24  239.51  240.02   36771135  \n"
     ]
    }
   ],
   "source": [
    "# get the remaining 1 year.\n",
    "df_portfolio_rest = alpaca.get_barset(\n",
    "    tickers,\n",
    "    timeframe,\n",
    "    limit = 1000,\n",
    "    start = start_date,\n",
    "    end = end_date\n",
    ").df\n",
    "# print to check the new 1 year data extra\n",
    "print(df_portfolio_rest.head())\n",
    "print(df_portfolio_rest.tail())"
   ]
  },
  {
   "cell_type": "code",
   "execution_count": 117,
   "metadata": {},
   "outputs": [
    {
     "name": "stdout",
     "output_type": "stream",
     "text": [
      "                              AGG                                         \\\n",
      "                             open    high       low     close     volume   \n",
      "2016-05-24 00:00:00-04:00  110.56  110.56  110.3400  110.4450  1554835.0   \n",
      "2016-05-25 00:00:00-04:00  110.54  110.55  110.3899  110.4759  2518214.0   \n",
      "2016-05-26 00:00:00-04:00  110.64  110.73  110.5600  110.6300  1410096.0   \n",
      "2016-05-27 00:00:00-04:00  110.68  110.70  110.4800  110.6100  2058598.0   \n",
      "2016-05-31 00:00:00-04:00  110.41  110.76  110.3600  110.6600  3066570.0   \n",
      "\n",
      "                              SPY                                        \n",
      "                             open    high     low     close      volume  \n",
      "2016-05-24 00:00:00-04:00  206.17  208.24  206.14  207.8500  65705751.0  \n",
      "2016-05-25 00:00:00-04:00  208.67  209.77  208.62  209.2200  59678561.0  \n",
      "2016-05-26 00:00:00-04:00  209.44  209.71  208.97  209.3264  41187181.0  \n",
      "2016-05-27 00:00:00-04:00  209.53  210.21  209.47  210.2000  48878450.0  \n",
      "2016-05-31 00:00:00-04:00  210.55  210.69  209.18  209.9000  74321735.0  \n",
      "                              AGG                                        \\\n",
      "                             open    high       low    close     volume   \n",
      "2021-05-10 00:00:00-04:00  114.61  114.72  114.4000  114.430  4737895.0   \n",
      "2021-05-11 00:00:00-04:00  114.23  114.38  114.1300  114.190  5986487.0   \n",
      "2021-05-12 00:00:00-04:00  113.98  114.01  113.7900  113.790  6392314.0   \n",
      "2021-05-13 00:00:00-04:00  113.90  114.06  113.7800  114.015  5446892.0   \n",
      "2021-05-14 00:00:00-04:00  114.22  114.28  114.1219  114.280  3711363.0   \n",
      "\n",
      "                              SPY                                       \n",
      "                             open    high     low   close       volume  \n",
      "2021-05-10 00:00:00-04:00  422.50  422.74  417.81  417.98   72071656.0  \n",
      "2021-05-11 00:00:00-04:00  413.10  415.27  410.06  414.27  105794428.0  \n",
      "2021-05-12 00:00:00-04:00  411.23  412.59  404.00  405.44  117671634.0  \n",
      "2021-05-13 00:00:00-04:00  407.07  412.35  407.02  410.26   96561623.0  \n",
      "2021-05-14 00:00:00-04:00  413.20  417.49  413.18  416.53   69029028.0  \n",
      "Total days of data = 1253\n"
     ]
    }
   ],
   "source": [
    "# Get 5 years' worth of historical data for SPY and AGG\n",
    "# (use a limit=1000 parameter to call the most recent 1000 days of data)\n",
    "# YOUR CODE HERE!\n",
    "\n",
    "# here concatenate the 4 yrs we aleady got earlier and then the 1 year now. \n",
    "df_stock_data = pd.concat([df_portfolio_rest, df_portfolio], axis=\"rows\", join=\"inner\")\n",
    "# sort by date index to get all the 5 years in sequence\n",
    "df_stock_data.sort_index\n",
    "# Display sample data\n",
    "print(df_stock_data.head())\n",
    "print(df_stock_data.tail())\n",
    "print(f'Total days of data = {len(df_stock_data)}')       # Confirm we have the 5 yrs data"
   ]
  },
  {
   "cell_type": "code",
   "execution_count": 118,
   "metadata": {},
   "outputs": [],
   "source": [
    "# Configuring a Monte Carlo simulation to forecast 30 years cumulative returns\n",
    "# use limit=1000 to call the most recent 1000 days of data\n",
    "# YOUR CODE HERE!\n",
    "\n",
    "# Configure a Monte Carlo simulation to forecast five years cumulative returns\n",
    "MC_even_dist = MCSimulation(\n",
    "    portfolio_data = df_stock_data,\n",
    "    weights = [.4,.6 ],\n",
    "    num_simulation = 500,\n",
    "    num_trading_days = 252*30\n",
    ")\n",
    "\n"
   ]
  },
  {
   "cell_type": "code",
   "execution_count": 119,
   "metadata": {},
   "outputs": [
    {
     "data": {
      "text/html": [
       "<div>\n",
       "<style scoped>\n",
       "    .dataframe tbody tr th:only-of-type {\n",
       "        vertical-align: middle;\n",
       "    }\n",
       "\n",
       "    .dataframe tbody tr th {\n",
       "        vertical-align: top;\n",
       "    }\n",
       "\n",
       "    .dataframe thead tr th {\n",
       "        text-align: left;\n",
       "    }\n",
       "</style>\n",
       "<table border=\"1\" class=\"dataframe\">\n",
       "  <thead>\n",
       "    <tr>\n",
       "      <th></th>\n",
       "      <th colspan=\"6\" halign=\"left\">AGG</th>\n",
       "      <th colspan=\"6\" halign=\"left\">SPY</th>\n",
       "    </tr>\n",
       "    <tr>\n",
       "      <th></th>\n",
       "      <th>open</th>\n",
       "      <th>high</th>\n",
       "      <th>low</th>\n",
       "      <th>close</th>\n",
       "      <th>volume</th>\n",
       "      <th>daily_return</th>\n",
       "      <th>open</th>\n",
       "      <th>high</th>\n",
       "      <th>low</th>\n",
       "      <th>close</th>\n",
       "      <th>volume</th>\n",
       "      <th>daily_return</th>\n",
       "    </tr>\n",
       "  </thead>\n",
       "  <tbody>\n",
       "    <tr>\n",
       "      <th>2016-05-24 00:00:00-04:00</th>\n",
       "      <td>110.56</td>\n",
       "      <td>110.56</td>\n",
       "      <td>110.3400</td>\n",
       "      <td>110.4450</td>\n",
       "      <td>1554835.0</td>\n",
       "      <td>NaN</td>\n",
       "      <td>206.17</td>\n",
       "      <td>208.24</td>\n",
       "      <td>206.14</td>\n",
       "      <td>207.8500</td>\n",
       "      <td>65705751.0</td>\n",
       "      <td>NaN</td>\n",
       "    </tr>\n",
       "    <tr>\n",
       "      <th>2016-05-25 00:00:00-04:00</th>\n",
       "      <td>110.54</td>\n",
       "      <td>110.55</td>\n",
       "      <td>110.3899</td>\n",
       "      <td>110.4759</td>\n",
       "      <td>2518214.0</td>\n",
       "      <td>0.000280</td>\n",
       "      <td>208.67</td>\n",
       "      <td>209.77</td>\n",
       "      <td>208.62</td>\n",
       "      <td>209.2200</td>\n",
       "      <td>59678561.0</td>\n",
       "      <td>0.006591</td>\n",
       "    </tr>\n",
       "    <tr>\n",
       "      <th>2016-05-26 00:00:00-04:00</th>\n",
       "      <td>110.64</td>\n",
       "      <td>110.73</td>\n",
       "      <td>110.5600</td>\n",
       "      <td>110.6300</td>\n",
       "      <td>1410096.0</td>\n",
       "      <td>0.001395</td>\n",
       "      <td>209.44</td>\n",
       "      <td>209.71</td>\n",
       "      <td>208.97</td>\n",
       "      <td>209.3264</td>\n",
       "      <td>41187181.0</td>\n",
       "      <td>0.000509</td>\n",
       "    </tr>\n",
       "    <tr>\n",
       "      <th>2016-05-27 00:00:00-04:00</th>\n",
       "      <td>110.68</td>\n",
       "      <td>110.70</td>\n",
       "      <td>110.4800</td>\n",
       "      <td>110.6100</td>\n",
       "      <td>2058598.0</td>\n",
       "      <td>-0.000181</td>\n",
       "      <td>209.53</td>\n",
       "      <td>210.21</td>\n",
       "      <td>209.47</td>\n",
       "      <td>210.2000</td>\n",
       "      <td>48878450.0</td>\n",
       "      <td>0.004173</td>\n",
       "    </tr>\n",
       "    <tr>\n",
       "      <th>2016-05-31 00:00:00-04:00</th>\n",
       "      <td>110.41</td>\n",
       "      <td>110.76</td>\n",
       "      <td>110.3600</td>\n",
       "      <td>110.6600</td>\n",
       "      <td>3066570.0</td>\n",
       "      <td>0.000452</td>\n",
       "      <td>210.55</td>\n",
       "      <td>210.69</td>\n",
       "      <td>209.18</td>\n",
       "      <td>209.9000</td>\n",
       "      <td>74321735.0</td>\n",
       "      <td>-0.001427</td>\n",
       "    </tr>\n",
       "  </tbody>\n",
       "</table>\n",
       "</div>"
      ],
      "text/plain": [
       "                              AGG                                         \\\n",
       "                             open    high       low     close     volume   \n",
       "2016-05-24 00:00:00-04:00  110.56  110.56  110.3400  110.4450  1554835.0   \n",
       "2016-05-25 00:00:00-04:00  110.54  110.55  110.3899  110.4759  2518214.0   \n",
       "2016-05-26 00:00:00-04:00  110.64  110.73  110.5600  110.6300  1410096.0   \n",
       "2016-05-27 00:00:00-04:00  110.68  110.70  110.4800  110.6100  2058598.0   \n",
       "2016-05-31 00:00:00-04:00  110.41  110.76  110.3600  110.6600  3066570.0   \n",
       "\n",
       "                                           SPY                            \\\n",
       "                          daily_return    open    high     low     close   \n",
       "2016-05-24 00:00:00-04:00          NaN  206.17  208.24  206.14  207.8500   \n",
       "2016-05-25 00:00:00-04:00     0.000280  208.67  209.77  208.62  209.2200   \n",
       "2016-05-26 00:00:00-04:00     0.001395  209.44  209.71  208.97  209.3264   \n",
       "2016-05-27 00:00:00-04:00    -0.000181  209.53  210.21  209.47  210.2000   \n",
       "2016-05-31 00:00:00-04:00     0.000452  210.55  210.69  209.18  209.9000   \n",
       "\n",
       "                                                    \n",
       "                               volume daily_return  \n",
       "2016-05-24 00:00:00-04:00  65705751.0          NaN  \n",
       "2016-05-25 00:00:00-04:00  59678561.0     0.006591  \n",
       "2016-05-26 00:00:00-04:00  41187181.0     0.000509  \n",
       "2016-05-27 00:00:00-04:00  48878450.0     0.004173  \n",
       "2016-05-31 00:00:00-04:00  74321735.0    -0.001427  "
      ]
     },
     "execution_count": 119,
     "metadata": {},
     "output_type": "execute_result"
    }
   ],
   "source": [
    "# Printing the simulation input data\n",
    "# YOUR CODE HERE!\n",
    "MC_even_dist.portfolio_data.head()"
   ]
  },
  {
   "cell_type": "code",
   "execution_count": 120,
   "metadata": {},
   "outputs": [
    {
     "name": "stdout",
     "output_type": "stream",
     "text": [
      "Running Monte Carlo simulation number 0.\n",
      "Running Monte Carlo simulation number 10.\n",
      "Running Monte Carlo simulation number 20.\n",
      "Running Monte Carlo simulation number 30.\n",
      "Running Monte Carlo simulation number 40.\n",
      "Running Monte Carlo simulation number 50.\n",
      "Running Monte Carlo simulation number 60.\n",
      "Running Monte Carlo simulation number 70.\n",
      "Running Monte Carlo simulation number 80.\n",
      "Running Monte Carlo simulation number 90.\n",
      "Running Monte Carlo simulation number 100.\n",
      "Running Monte Carlo simulation number 110.\n",
      "Running Monte Carlo simulation number 120.\n",
      "Running Monte Carlo simulation number 130.\n",
      "Running Monte Carlo simulation number 140.\n",
      "Running Monte Carlo simulation number 150.\n",
      "Running Monte Carlo simulation number 160.\n",
      "Running Monte Carlo simulation number 170.\n",
      "Running Monte Carlo simulation number 180.\n",
      "Running Monte Carlo simulation number 190.\n",
      "Running Monte Carlo simulation number 200.\n",
      "Running Monte Carlo simulation number 210.\n",
      "Running Monte Carlo simulation number 220.\n",
      "Running Monte Carlo simulation number 230.\n",
      "Running Monte Carlo simulation number 240.\n",
      "Running Monte Carlo simulation number 250.\n",
      "Running Monte Carlo simulation number 260.\n",
      "Running Monte Carlo simulation number 270.\n",
      "Running Monte Carlo simulation number 280.\n",
      "Running Monte Carlo simulation number 290.\n",
      "Running Monte Carlo simulation number 300.\n",
      "Running Monte Carlo simulation number 310.\n",
      "Running Monte Carlo simulation number 320.\n",
      "Running Monte Carlo simulation number 330.\n",
      "Running Monte Carlo simulation number 340.\n",
      "Running Monte Carlo simulation number 350.\n",
      "Running Monte Carlo simulation number 360.\n",
      "Running Monte Carlo simulation number 370.\n",
      "Running Monte Carlo simulation number 380.\n",
      "Running Monte Carlo simulation number 390.\n",
      "Running Monte Carlo simulation number 400.\n",
      "Running Monte Carlo simulation number 410.\n",
      "Running Monte Carlo simulation number 420.\n",
      "Running Monte Carlo simulation number 430.\n",
      "Running Monte Carlo simulation number 440.\n",
      "Running Monte Carlo simulation number 450.\n",
      "Running Monte Carlo simulation number 460.\n",
      "Running Monte Carlo simulation number 470.\n",
      "Running Monte Carlo simulation number 480.\n",
      "Running Monte Carlo simulation number 490.\n"
     ]
    },
    {
     "data": {
      "text/html": [
       "<div>\n",
       "<style scoped>\n",
       "    .dataframe tbody tr th:only-of-type {\n",
       "        vertical-align: middle;\n",
       "    }\n",
       "\n",
       "    .dataframe tbody tr th {\n",
       "        vertical-align: top;\n",
       "    }\n",
       "\n",
       "    .dataframe thead th {\n",
       "        text-align: right;\n",
       "    }\n",
       "</style>\n",
       "<table border=\"1\" class=\"dataframe\">\n",
       "  <thead>\n",
       "    <tr style=\"text-align: right;\">\n",
       "      <th></th>\n",
       "      <th>0</th>\n",
       "      <th>1</th>\n",
       "      <th>2</th>\n",
       "      <th>3</th>\n",
       "      <th>4</th>\n",
       "      <th>5</th>\n",
       "      <th>6</th>\n",
       "      <th>7</th>\n",
       "      <th>8</th>\n",
       "      <th>9</th>\n",
       "      <th>...</th>\n",
       "      <th>490</th>\n",
       "      <th>491</th>\n",
       "      <th>492</th>\n",
       "      <th>493</th>\n",
       "      <th>494</th>\n",
       "      <th>495</th>\n",
       "      <th>496</th>\n",
       "      <th>497</th>\n",
       "      <th>498</th>\n",
       "      <th>499</th>\n",
       "    </tr>\n",
       "  </thead>\n",
       "  <tbody>\n",
       "    <tr>\n",
       "      <th>0</th>\n",
       "      <td>1.000000</td>\n",
       "      <td>1.000000</td>\n",
       "      <td>1.000000</td>\n",
       "      <td>1.000000</td>\n",
       "      <td>1.000000</td>\n",
       "      <td>1.000000</td>\n",
       "      <td>1.000000</td>\n",
       "      <td>1.000000</td>\n",
       "      <td>1.000000</td>\n",
       "      <td>1.000000</td>\n",
       "      <td>...</td>\n",
       "      <td>1.000000</td>\n",
       "      <td>1.000000</td>\n",
       "      <td>1.000000</td>\n",
       "      <td>1.000000</td>\n",
       "      <td>1.000000</td>\n",
       "      <td>1.000000</td>\n",
       "      <td>1.000000</td>\n",
       "      <td>1.000000</td>\n",
       "      <td>1.000000</td>\n",
       "      <td>1.000000</td>\n",
       "    </tr>\n",
       "    <tr>\n",
       "      <th>1</th>\n",
       "      <td>1.005405</td>\n",
       "      <td>1.003233</td>\n",
       "      <td>0.991412</td>\n",
       "      <td>0.997592</td>\n",
       "      <td>1.002101</td>\n",
       "      <td>0.996712</td>\n",
       "      <td>1.002123</td>\n",
       "      <td>1.000589</td>\n",
       "      <td>0.998024</td>\n",
       "      <td>0.998417</td>\n",
       "      <td>...</td>\n",
       "      <td>1.004925</td>\n",
       "      <td>0.994318</td>\n",
       "      <td>0.999677</td>\n",
       "      <td>1.004792</td>\n",
       "      <td>1.008105</td>\n",
       "      <td>0.995787</td>\n",
       "      <td>1.000738</td>\n",
       "      <td>0.998140</td>\n",
       "      <td>1.019882</td>\n",
       "      <td>1.003223</td>\n",
       "    </tr>\n",
       "    <tr>\n",
       "      <th>2</th>\n",
       "      <td>1.019755</td>\n",
       "      <td>1.002248</td>\n",
       "      <td>0.988532</td>\n",
       "      <td>0.984271</td>\n",
       "      <td>1.012386</td>\n",
       "      <td>0.994839</td>\n",
       "      <td>1.001372</td>\n",
       "      <td>1.007949</td>\n",
       "      <td>0.997400</td>\n",
       "      <td>0.988422</td>\n",
       "      <td>...</td>\n",
       "      <td>1.002218</td>\n",
       "      <td>0.994266</td>\n",
       "      <td>1.004524</td>\n",
       "      <td>1.004937</td>\n",
       "      <td>1.004881</td>\n",
       "      <td>1.014725</td>\n",
       "      <td>1.009684</td>\n",
       "      <td>1.006838</td>\n",
       "      <td>1.026100</td>\n",
       "      <td>0.998382</td>\n",
       "    </tr>\n",
       "    <tr>\n",
       "      <th>3</th>\n",
       "      <td>1.009812</td>\n",
       "      <td>0.990770</td>\n",
       "      <td>0.985393</td>\n",
       "      <td>0.977240</td>\n",
       "      <td>1.004749</td>\n",
       "      <td>0.996611</td>\n",
       "      <td>1.006277</td>\n",
       "      <td>1.014062</td>\n",
       "      <td>0.986585</td>\n",
       "      <td>0.980492</td>\n",
       "      <td>...</td>\n",
       "      <td>0.999174</td>\n",
       "      <td>0.991773</td>\n",
       "      <td>1.008086</td>\n",
       "      <td>1.005867</td>\n",
       "      <td>0.996411</td>\n",
       "      <td>1.028901</td>\n",
       "      <td>1.005042</td>\n",
       "      <td>1.011050</td>\n",
       "      <td>1.033443</td>\n",
       "      <td>0.992929</td>\n",
       "    </tr>\n",
       "    <tr>\n",
       "      <th>4</th>\n",
       "      <td>0.999441</td>\n",
       "      <td>0.995871</td>\n",
       "      <td>0.984712</td>\n",
       "      <td>0.975855</td>\n",
       "      <td>0.999393</td>\n",
       "      <td>0.997730</td>\n",
       "      <td>1.015465</td>\n",
       "      <td>1.017205</td>\n",
       "      <td>0.984543</td>\n",
       "      <td>0.980825</td>\n",
       "      <td>...</td>\n",
       "      <td>1.002704</td>\n",
       "      <td>0.997981</td>\n",
       "      <td>1.007320</td>\n",
       "      <td>0.995632</td>\n",
       "      <td>0.993669</td>\n",
       "      <td>1.019892</td>\n",
       "      <td>1.008358</td>\n",
       "      <td>1.005005</td>\n",
       "      <td>1.032635</td>\n",
       "      <td>0.996803</td>\n",
       "    </tr>\n",
       "    <tr>\n",
       "      <th>...</th>\n",
       "      <td>...</td>\n",
       "      <td>...</td>\n",
       "      <td>...</td>\n",
       "      <td>...</td>\n",
       "      <td>...</td>\n",
       "      <td>...</td>\n",
       "      <td>...</td>\n",
       "      <td>...</td>\n",
       "      <td>...</td>\n",
       "      <td>...</td>\n",
       "      <td>...</td>\n",
       "      <td>...</td>\n",
       "      <td>...</td>\n",
       "      <td>...</td>\n",
       "      <td>...</td>\n",
       "      <td>...</td>\n",
       "      <td>...</td>\n",
       "      <td>...</td>\n",
       "      <td>...</td>\n",
       "      <td>...</td>\n",
       "      <td>...</td>\n",
       "    </tr>\n",
       "    <tr>\n",
       "      <th>7556</th>\n",
       "      <td>15.076127</td>\n",
       "      <td>23.863220</td>\n",
       "      <td>16.059440</td>\n",
       "      <td>104.018811</td>\n",
       "      <td>12.541111</td>\n",
       "      <td>20.948132</td>\n",
       "      <td>6.521563</td>\n",
       "      <td>12.392398</td>\n",
       "      <td>37.061929</td>\n",
       "      <td>9.920072</td>\n",
       "      <td>...</td>\n",
       "      <td>12.535167</td>\n",
       "      <td>22.725291</td>\n",
       "      <td>5.450625</td>\n",
       "      <td>15.026660</td>\n",
       "      <td>12.415396</td>\n",
       "      <td>17.595048</td>\n",
       "      <td>26.840771</td>\n",
       "      <td>43.755704</td>\n",
       "      <td>18.398013</td>\n",
       "      <td>9.306336</td>\n",
       "    </tr>\n",
       "    <tr>\n",
       "      <th>7557</th>\n",
       "      <td>15.039993</td>\n",
       "      <td>23.675417</td>\n",
       "      <td>15.939614</td>\n",
       "      <td>105.113258</td>\n",
       "      <td>12.659105</td>\n",
       "      <td>20.961565</td>\n",
       "      <td>6.451979</td>\n",
       "      <td>12.382078</td>\n",
       "      <td>36.637290</td>\n",
       "      <td>9.907293</td>\n",
       "      <td>...</td>\n",
       "      <td>12.575966</td>\n",
       "      <td>22.603920</td>\n",
       "      <td>5.462481</td>\n",
       "      <td>15.043317</td>\n",
       "      <td>12.477974</td>\n",
       "      <td>17.837902</td>\n",
       "      <td>26.717869</td>\n",
       "      <td>43.775024</td>\n",
       "      <td>18.392141</td>\n",
       "      <td>9.386720</td>\n",
       "    </tr>\n",
       "    <tr>\n",
       "      <th>7558</th>\n",
       "      <td>14.992286</td>\n",
       "      <td>23.573251</td>\n",
       "      <td>16.007279</td>\n",
       "      <td>105.079158</td>\n",
       "      <td>12.597828</td>\n",
       "      <td>21.073394</td>\n",
       "      <td>6.390727</td>\n",
       "      <td>12.272269</td>\n",
       "      <td>36.977270</td>\n",
       "      <td>9.946832</td>\n",
       "      <td>...</td>\n",
       "      <td>12.646474</td>\n",
       "      <td>22.685629</td>\n",
       "      <td>5.519798</td>\n",
       "      <td>15.169834</td>\n",
       "      <td>12.501193</td>\n",
       "      <td>17.697040</td>\n",
       "      <td>27.042391</td>\n",
       "      <td>43.779841</td>\n",
       "      <td>18.321007</td>\n",
       "      <td>9.463213</td>\n",
       "    </tr>\n",
       "    <tr>\n",
       "      <th>7559</th>\n",
       "      <td>14.960767</td>\n",
       "      <td>23.757185</td>\n",
       "      <td>16.005562</td>\n",
       "      <td>104.998714</td>\n",
       "      <td>12.568360</td>\n",
       "      <td>20.886221</td>\n",
       "      <td>6.348001</td>\n",
       "      <td>12.266005</td>\n",
       "      <td>36.955492</td>\n",
       "      <td>9.825280</td>\n",
       "      <td>...</td>\n",
       "      <td>12.561432</td>\n",
       "      <td>22.975815</td>\n",
       "      <td>5.547437</td>\n",
       "      <td>15.199056</td>\n",
       "      <td>12.364299</td>\n",
       "      <td>17.627416</td>\n",
       "      <td>27.107643</td>\n",
       "      <td>43.654595</td>\n",
       "      <td>18.182925</td>\n",
       "      <td>9.334199</td>\n",
       "    </tr>\n",
       "    <tr>\n",
       "      <th>7560</th>\n",
       "      <td>15.007947</td>\n",
       "      <td>23.922219</td>\n",
       "      <td>15.889110</td>\n",
       "      <td>105.341001</td>\n",
       "      <td>12.670995</td>\n",
       "      <td>20.920261</td>\n",
       "      <td>6.375256</td>\n",
       "      <td>12.204100</td>\n",
       "      <td>36.844519</td>\n",
       "      <td>9.803227</td>\n",
       "      <td>...</td>\n",
       "      <td>12.727364</td>\n",
       "      <td>23.061089</td>\n",
       "      <td>5.536235</td>\n",
       "      <td>15.272821</td>\n",
       "      <td>12.584489</td>\n",
       "      <td>17.773021</td>\n",
       "      <td>27.490292</td>\n",
       "      <td>43.406653</td>\n",
       "      <td>18.318872</td>\n",
       "      <td>9.267413</td>\n",
       "    </tr>\n",
       "  </tbody>\n",
       "</table>\n",
       "<p>7561 rows × 500 columns</p>\n",
       "</div>"
      ],
      "text/plain": [
       "            0          1          2           3          4          5    \\\n",
       "0      1.000000   1.000000   1.000000    1.000000   1.000000   1.000000   \n",
       "1      1.005405   1.003233   0.991412    0.997592   1.002101   0.996712   \n",
       "2      1.019755   1.002248   0.988532    0.984271   1.012386   0.994839   \n",
       "3      1.009812   0.990770   0.985393    0.977240   1.004749   0.996611   \n",
       "4      0.999441   0.995871   0.984712    0.975855   0.999393   0.997730   \n",
       "...         ...        ...        ...         ...        ...        ...   \n",
       "7556  15.076127  23.863220  16.059440  104.018811  12.541111  20.948132   \n",
       "7557  15.039993  23.675417  15.939614  105.113258  12.659105  20.961565   \n",
       "7558  14.992286  23.573251  16.007279  105.079158  12.597828  21.073394   \n",
       "7559  14.960767  23.757185  16.005562  104.998714  12.568360  20.886221   \n",
       "7560  15.007947  23.922219  15.889110  105.341001  12.670995  20.920261   \n",
       "\n",
       "           6          7          8         9    ...        490        491  \\\n",
       "0     1.000000   1.000000   1.000000  1.000000  ...   1.000000   1.000000   \n",
       "1     1.002123   1.000589   0.998024  0.998417  ...   1.004925   0.994318   \n",
       "2     1.001372   1.007949   0.997400  0.988422  ...   1.002218   0.994266   \n",
       "3     1.006277   1.014062   0.986585  0.980492  ...   0.999174   0.991773   \n",
       "4     1.015465   1.017205   0.984543  0.980825  ...   1.002704   0.997981   \n",
       "...        ...        ...        ...       ...  ...        ...        ...   \n",
       "7556  6.521563  12.392398  37.061929  9.920072  ...  12.535167  22.725291   \n",
       "7557  6.451979  12.382078  36.637290  9.907293  ...  12.575966  22.603920   \n",
       "7558  6.390727  12.272269  36.977270  9.946832  ...  12.646474  22.685629   \n",
       "7559  6.348001  12.266005  36.955492  9.825280  ...  12.561432  22.975815   \n",
       "7560  6.375256  12.204100  36.844519  9.803227  ...  12.727364  23.061089   \n",
       "\n",
       "           492        493        494        495        496        497  \\\n",
       "0     1.000000   1.000000   1.000000   1.000000   1.000000   1.000000   \n",
       "1     0.999677   1.004792   1.008105   0.995787   1.000738   0.998140   \n",
       "2     1.004524   1.004937   1.004881   1.014725   1.009684   1.006838   \n",
       "3     1.008086   1.005867   0.996411   1.028901   1.005042   1.011050   \n",
       "4     1.007320   0.995632   0.993669   1.019892   1.008358   1.005005   \n",
       "...        ...        ...        ...        ...        ...        ...   \n",
       "7556  5.450625  15.026660  12.415396  17.595048  26.840771  43.755704   \n",
       "7557  5.462481  15.043317  12.477974  17.837902  26.717869  43.775024   \n",
       "7558  5.519798  15.169834  12.501193  17.697040  27.042391  43.779841   \n",
       "7559  5.547437  15.199056  12.364299  17.627416  27.107643  43.654595   \n",
       "7560  5.536235  15.272821  12.584489  17.773021  27.490292  43.406653   \n",
       "\n",
       "            498       499  \n",
       "0      1.000000  1.000000  \n",
       "1      1.019882  1.003223  \n",
       "2      1.026100  0.998382  \n",
       "3      1.033443  0.992929  \n",
       "4      1.032635  0.996803  \n",
       "...         ...       ...  \n",
       "7556  18.398013  9.306336  \n",
       "7557  18.392141  9.386720  \n",
       "7558  18.321007  9.463213  \n",
       "7559  18.182925  9.334199  \n",
       "7560  18.318872  9.267413  \n",
       "\n",
       "[7561 rows x 500 columns]"
      ]
     },
     "execution_count": 120,
     "metadata": {},
     "output_type": "execute_result"
    }
   ],
   "source": [
    "# Running a Monte Carlo simulation to forecast 30 years cumulative returns\n",
    "# YOUR CODE HERE!\n",
    "MC_even_dist.calc_cumulative_return()"
   ]
  },
  {
   "cell_type": "code",
   "execution_count": 121,
   "metadata": {},
   "outputs": [
    {
     "data": {
      "image/png": "[encoded data removed]",
      "text/plain": [
       "<Figure size 432x288 with 1 Axes>"
      ]
     },
     "metadata": {
      "needs_background": "light"
     },
     "output_type": "display_data"
    }
   ],
   "source": [
    "# Plot simulation outcomes\n",
    "# YOUR CODE HERE!\n",
    "line_plot = MC_even_dist.plot_simulation()"
   ]
  },
  {
   "cell_type": "code",
   "execution_count": 122,
   "metadata": {},
   "outputs": [
    {
     "data": {
      "image/png": "[encoded data removed]",
      "text/plain": [
       "<Figure size 432x288 with 1 Axes>"
      ]
     },
     "metadata": {
      "needs_background": "light"
     },
     "output_type": "display_data"
    }
   ],
   "source": [
    "# Plot probability distribution and confidence intervals\n",
    "# YOUR CODE HERE!\n",
    "dist_plot = MC_even_dist.plot_distribution()"
   ]
  },
  {
   "cell_type": "markdown",
   "metadata": {},
   "source": [
    "### Retirement Analysis"
   ]
  },
  {
   "cell_type": "code",
   "execution_count": 123,
   "metadata": {},
   "outputs": [
    {
     "name": "stdout",
     "output_type": "stream",
     "text": [
      "count           500.000000\n",
      "mean             19.844336\n",
      "std              14.365870\n",
      "min               2.315725\n",
      "25%              10.170936\n",
      "50%              15.519391\n",
      "75%              25.097723\n",
      "max             105.341001\n",
      "95% CI Lower      4.589480\n",
      "95% CI Upper     58.635595\n",
      "Name: 7560, dtype: float64\n"
     ]
    }
   ],
   "source": [
    "# Fetch summary statistics from the Monte Carlo simulation results\n",
    "# YOUR CODE HERE!\n",
    "even_tbl = MC_even_dist.summarize_cumulative_return()\n",
    "# Print summary statistics\n",
    "# YOUR CODE HERE!\n",
    "print(even_tbl)"
   ]
  },
  {
   "cell_type": "markdown",
   "metadata": {},
   "source": [
    "### Calculate the expected portfolio return at the `95%` lower and upper confidence intervals based on a `$20,000` initial investment."
   ]
  },
  {
   "cell_type": "code",
   "execution_count": 124,
   "metadata": {},
   "outputs": [
    {
     "name": "stdout",
     "output_type": "stream",
     "text": [
      "There is a 95% chance that an initial investment of $20000 in the portfolio over the next 30 years will end within in the range of $91789.59 and $1172711.9\n"
     ]
    }
   ],
   "source": [
    "# Set initial investment\n",
    "initial_investment = 20000\n",
    "\n",
    "# Use the lower and upper `95%` confidence intervals to calculate the range of the possible outcomes of our $20,000\n",
    "# YOUR CODE HERE!\n",
    "ci_lower = round(even_tbl[8]*initial_investment,2)\n",
    "ci_upper = round(even_tbl[9]*initial_investment,2)\n",
    "\n",
    "# Print results\n",
    "print(f\"There is a 95% chance that an initial investment of ${initial_investment} in the portfolio\"\n",
    "      f\" over the next 30 years will end within in the range of\"\n",
    "      f\" ${ci_lower} and ${ci_upper}\")"
   ]
  },
  {
   "cell_type": "markdown",
   "metadata": {},
   "source": [
    "### Calculate the expected portfolio return at the `95%` lower and upper confidence intervals based on a `50%` increase in the initial investment."
   ]
  },
  {
   "cell_type": "code",
   "execution_count": 125,
   "metadata": {},
   "outputs": [
    {
     "name": "stdout",
     "output_type": "stream",
     "text": [
      "There is a 95% chance that an initial investment of $30000.0 in the portfolio over the next 30 years will end within in the range of $137684.39 and $1759067.85\n"
     ]
    }
   ],
   "source": [
    "# Set initial investment\n",
    "initial_investment = 20000 * 1.5\n",
    "\n",
    "# Use the lower and upper `95%` confidence intervals to calculate the range of the possible outcomes of our $30,000\n",
    "# YOUR CODE HERE!\n",
    "ci_lower = round(even_tbl[8]*initial_investment,2)\n",
    "ci_upper = round(even_tbl[9]*initial_investment,2)\n",
    "\n",
    "# Print results\n",
    "print(f\"There is a 95% chance that an initial investment of ${initial_investment} in the portfolio\"\n",
    "      f\" over the next 30 years will end within in the range of\"\n",
    "      f\" ${ci_lower} and ${ci_upper}\")"
   ]
  },
  {
   "cell_type": "markdown",
   "metadata": {},
   "source": [
    "## Optional Challenge - Early Retirement\n",
    "\n",
    "\n",
    "### Five Years Retirement Option"
   ]
  },
  {
   "cell_type": "code",
   "execution_count": null,
   "metadata": {},
   "outputs": [],
   "source": [
    "# Configuring a Monte Carlo simulation to forecast 5 years cumulative returns\n",
    "# YOUR CODE HERE!"
   ]
  },
  {
   "cell_type": "code",
   "execution_count": null,
   "metadata": {},
   "outputs": [],
   "source": [
    "# Running a Monte Carlo simulation to forecast 5 years cumulative returns\n",
    "# YOUR CODE HERE!"
   ]
  },
  {
   "cell_type": "code",
   "execution_count": null,
   "metadata": {},
   "outputs": [],
   "source": [
    "# Plot simulation outcomes\n",
    "# YOUR CODE HERE!"
   ]
  },
  {
   "cell_type": "code",
   "execution_count": null,
   "metadata": {},
   "outputs": [],
   "source": [
    "# Plot probability distribution and confidence intervals\n",
    "# YOUR CODE HERE!"
   ]
  },
  {
   "cell_type": "code",
   "execution_count": null,
   "metadata": {},
   "outputs": [],
   "source": [
    "# Fetch summary statistics from the Monte Carlo simulation results\n",
    "# YOUR CODE HERE!\n",
    "\n",
    "# Print summary statistics\n",
    "# YOUR CODE HERE!"
   ]
  },
  {
   "cell_type": "code",
   "execution_count": null,
   "metadata": {},
   "outputs": [],
   "source": [
    "# Set initial investment\n",
    "# YOUR CODE HERE!\n",
    "\n",
    "# Use the lower and upper `95%` confidence intervals to calculate the range of the possible outcomes of our $60,000\n",
    "# YOUR CODE HERE!\n",
    "\n",
    "# Print results\n",
    "print(f\"There is a 95% chance that an initial investment of ${initial_investment} in the portfolio\"\n",
    "      f\" over the next 5 years will end within in the range of\"\n",
    "      f\" ${ci_lower_five} and ${ci_upper_five}\")"
   ]
  },
  {
   "cell_type": "markdown",
   "metadata": {},
   "source": [
    "### Ten Years Retirement Option"
   ]
  },
  {
   "cell_type": "code",
   "execution_count": null,
   "metadata": {},
   "outputs": [],
   "source": [
    "# Configuring a Monte Carlo simulation to forecast 10 years cumulative returns\n",
    "# YOUR CODE HERE!"
   ]
  },
  {
   "cell_type": "code",
   "execution_count": null,
   "metadata": {},
   "outputs": [],
   "source": [
    "# Running a Monte Carlo simulation to forecast 10 years cumulative returns\n",
    "# YOUR CODE HERE!"
   ]
  },
  {
   "cell_type": "code",
   "execution_count": null,
   "metadata": {},
   "outputs": [],
   "source": [
    "# Plot simulation outcomes\n",
    "# YOUR CODE HERE!"
   ]
  },
  {
   "cell_type": "code",
   "execution_count": null,
   "metadata": {},
   "outputs": [],
   "source": [
    "# Plot probability distribution and confidence intervals\n",
    "# YOUR CODE HERE!"
   ]
  },
  {
   "cell_type": "code",
   "execution_count": null,
   "metadata": {},
   "outputs": [],
   "source": [
    "# Fetch summary statistics from the Monte Carlo simulation results\n",
    "# YOUR CODE HERE!\n",
    "\n",
    "# Print summary statistics\n",
    "# YOUR CODE HERE!"
   ]
  },
  {
   "cell_type": "code",
   "execution_count": null,
   "metadata": {},
   "outputs": [],
   "source": [
    "# Set initial investment\n",
    "# YOUR CODE HERE!\n",
    "\n",
    "# Use the lower and upper `95%` confidence intervals to calculate the range of the possible outcomes of our $60,000\n",
    "# YOUR CODE HERE!\n",
    "\n",
    "# Print results\n",
    "print(f\"There is a 95% chance that an initial investment of ${initial_investment} in the portfolio\"\n",
    "      f\" over the next 10 years will end within in the range of\"\n",
    "      f\" ${ci_lower_ten} and ${ci_upper_ten}\")"
   ]
  },
  {
   "cell_type": "code",
   "execution_count": null,
   "metadata": {},
   "outputs": [],
   "source": []
  }
 ],
 "metadata": {
  "kernelspec": {
   "display_name": "Python [conda env:fintech] *",
   "language": "python",
   "name": "conda-env-fintech-py"
  },
  "language_info": {
   "codemirror_mode": {
    "name": "ipython",
    "version": 3
   },
   "file_extension": ".py",
   "mimetype": "text/x-python",
   "name": "python",
   "nbconvert_exporter": "python",
   "pygments_lexer": "ipython3",
   "version": "3.8.5"
  },
  "nteract": {
   "version": "0.28.0"
  }
 },
 "nbformat": 4,
 "nbformat_minor": 4
}
